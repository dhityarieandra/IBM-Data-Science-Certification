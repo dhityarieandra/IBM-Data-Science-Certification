{
 "metadata": {
  "language_info": {
   "codemirror_mode": {
    "name": "ipython",
    "version": 3
   },
   "file_extension": ".py",
   "mimetype": "text/x-python",
   "name": "python",
   "nbconvert_exporter": "python",
   "pygments_lexer": "ipython3",
   "version": "3.7.6-final"
  },
  "orig_nbformat": 2,
  "kernelspec": {
   "name": "python3",
   "display_name": "Python 3"
  }
 },
 "nbformat": 4,
 "nbformat_minor": 2,
 "cells": [
  {
   "source": [
    "# The Battle of Neighborhoods"
   ],
   "cell_type": "markdown",
   "metadata": {}
  },
  {
   "source": [
    "## I. Introduction"
   ],
   "cell_type": "markdown",
   "metadata": {}
  },
  {
   "source": [
    "The purpose of this Project is to help people in exploring better schools for tehir children around their neighborhood. \n",
    "\n",
    "Canada is  the country with the largest number of immigrants indirectly had become one of the most favourite destination for schools around the world. \n",
    "\n",
    "Lots of people are migrating to various states of Canada and needed lots of research for good reputated schools for their children. This project is for those people who are looking for schools with choice of most crowd neighborhoods, by searching neighborhood with postalcode representated.\n",
    "\n",
    "This project begin using foursquare API as its prime data gathering source as it has a database of millions of places, especially their places API which provides the ability to perform location search, location sharing and details about a business."
   ],
   "cell_type": "markdown",
   "metadata": {}
  },
  {
   "source": [
    "## II. Data Section"
   ],
   "cell_type": "markdown",
   "metadata": {}
  },
  {
   "source": [
    "As we mentioned on Introduction, we are gonna use data from `Foursquare`. Foursquare is a location data provider with information about all manner of venues and events within an area of interest. Such information includes venue names, locations, menus and even photos. As such, the foursquare location platform will be used as the sole data source since all the stated required information can be obtained through the API.\n",
    "\n",
    "To get rating of schools we are gonna use data from `greatschools.org`\n",
    "\n",
    "\n",
    "We are limiting radius of 100 meter for every borough to find a spot of schools aroud borough. These are datas that wwe are using from foursquare API:\n",
    "\n",
    "1. Neighborhood\n",
    "2. Neighborhood Latitude\n",
    "3. Neighborhood Longitude\n",
    "4. Venue\n",
    "6. Venue Latitude\n",
    "7. Venue Longitude\n",
    "8. Venue Category"
   ],
   "cell_type": "markdown",
   "metadata": {}
  },
  {
   "source": [
    "### Neighborhood with the most Postal Codes"
   ],
   "cell_type": "markdown",
   "metadata": {}
  },
  {
   "cell_type": "code",
   "execution_count": 14,
   "metadata": {},
   "outputs": [],
   "source": [
    "from IPython.display import Image"
   ]
  },
  {
   "source": [
    "![title](Most_Borough.png)"
   ],
   "cell_type": "markdown",
   "metadata": {}
  },
  {
   "source": [
    "So we are gonna use North York as Schools destination. Below picture is Map of North York:"
   ],
   "cell_type": "markdown",
   "metadata": {}
  },
  {
   "source": [
    "![title](North_York_Map.png)"
   ],
   "cell_type": "markdown",
   "metadata": {}
  },
  {
   "source": [
    "## III Finding Schools in North York"
   ],
   "cell_type": "markdown",
   "metadata": {}
  },
  {
   "source": [
    "We are using Foursquare API to get nearby schools in with radius of 100 meters around North York as the ratings will go by help of information from greatschools.org.\n",
    "First, we are going to cluster North York into 3 cluster wigh K-Means clustering approach"
   ],
   "cell_type": "markdown",
   "metadata": {}
  },
  {
   "source": [
    "First, we are going to cluster North York into 3 cluster wigh K-Means clustering approach"
   ],
   "cell_type": "markdown",
   "metadata": {}
  },
  {
   "source": [
    "![title](North_York_clustering_KMeans.png)"
   ],
   "cell_type": "markdown",
   "metadata": {}
  },
  {
   "source": [
    "Then, we're gonna mapping the cluster into the map"
   ],
   "cell_type": "markdown",
   "metadata": {}
  },
  {
   "source": [
    "![Title](North_York_Map_KMeans_Clustering.png)"
   ],
   "cell_type": "markdown",
   "metadata": {}
  },
  {
   "source": [
    "### Schools Rating by Clusters"
   ],
   "cell_type": "markdown",
   "metadata": {}
  },
  {
   "source": [
    "As mentioned before, we are using greatschools.org as reference to find top-rated schools around neighboorhood. First we are gonna use FOursquare APi to get venues/locations around selected neighbour (North York in this case) then we join the dataframe with the top rated schools in neighbour.\n",
    "\n",
    "Picture below is Neighbourhood with Top school rating (with value from greatschools.org equivalent to 10)"
   ],
   "cell_type": "markdown",
   "metadata": {}
  },
  {
   "source": [
    "### Top School Rating around North York"
   ],
   "cell_type": "markdown",
   "metadata": {}
  },
  {
   "source": [
    "![Title](Top_school_ratings_NY.png)"
   ],
   "cell_type": "markdown",
   "metadata": {}
  },
  {
   "source": [
    "### Mapping Neighbourhood with Top Rated schools into the Map"
   ],
   "cell_type": "markdown",
   "metadata": {}
  },
  {
   "source": [
    "![Title](Top_school_ratings_NY_map.png)"
   ],
   "cell_type": "markdown",
   "metadata": {}
  },
  {
   "source": [
    "## Conclusions"
   ],
   "cell_type": "markdown",
   "metadata": {}
  },
  {
   "source": [
    "In this project, using k-means cluster algorithm I separated the neighborhood into three different clusters and for 103 different lattitude and logitude from dataset,which have very-similar neighborhoods around them. \n",
    "\n",
    "I feel rewarded with the efforts and believe this course with all the topics covered is well worthy of appreciation. This project has shown me a practical application to resolve a real situation that has impacting personal and financial impact using Data Science tools. The mapping with Folium is a very powerful technique to consolidate information and make the analysis and decision better with confidence.\n",
    "\n",
    "Future Works:\n",
    "This project can be continued for making it more precise in terms to find best precisely the nearest schools aroun North York. As we result of this project that 8 top rated schools are quite far by distance from North York."
   ],
   "cell_type": "markdown",
   "metadata": {}
  },
  {
   "source": [
    "These are libraries we use to do this project:\n",
    "\n",
    "\n",
    "Pandas: For creating and manipulating dataframes.\n",
    "\n",
    "Folium: Python visualization library would be used to visualize the neighborhoods cluster distribution of using interactive leaflet map.\n",
    "\n",
    "Scikit Learn: For importing k-means clustering.\n",
    "\n",
    "JSON: Library to handle JSON files.\n",
    "\n",
    "XML: To separate data from presentation and XML stores data in plain text format.\n",
    "\n",
    "Geocoder: To retrieve Location Data."
   ],
   "cell_type": "markdown",
   "metadata": {}
  },
  {
   "cell_type": "code",
   "execution_count": null,
   "metadata": {},
   "outputs": [],
   "source": []
  }
 ]
}