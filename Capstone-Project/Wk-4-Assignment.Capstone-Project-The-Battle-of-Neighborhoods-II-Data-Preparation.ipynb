{
 "metadata": {
  "language_info": {
   "codemirror_mode": {
    "name": "ipython",
    "version": 3
   },
   "file_extension": ".py",
   "mimetype": "text/x-python",
   "name": "python",
   "nbconvert_exporter": "python",
   "pygments_lexer": "ipython3",
   "version": 3
  },
  "orig_nbformat": 2
 },
 "nbformat": 4,
 "nbformat_minor": 2,
 "cells": [
  {
   "source": [
    "# The Battle of Neighborhoods"
   ],
   "cell_type": "markdown",
   "metadata": {}
  },
  {
   "source": [
    "## Preparation"
   ],
   "cell_type": "markdown",
   "metadata": {}
  },
  {
   "source": [
    "### 1. Data Preparation"
   ],
   "cell_type": "markdown",
   "metadata": {}
  },
  {
   "source": [
    "As we mentioned on Introduction, we are gonna use data from `Foursquare`. Foursquare is a location data provider with information about all manner of venues and events within an area of interest. Such information includes venue names, locations, menus and even photos. As such, the foursquare location platform will be used as the sole data source since all the stated required information can be obtained through the API.\n",
    "\n",
    "To get rating of schools we are gonna use data from `greatschools.org`\n",
    "\n",
    "\n",
    "We are limiting radius of 100 meter for every borough to find a spot of schools aroud borough. These are datas that wwe are using from foursquare API:\n",
    "\n",
    "1. Neighborhood\n",
    "2. Neighborhood Latitude\n",
    "3. Neighborhood Longitude\n",
    "4. Venue\n",
    "6. Venue Latitude\n",
    "7. Venue Longitude\n",
    "8. Venue Category"
   ],
   "cell_type": "markdown",
   "metadata": {}
  },
  {
   "source": [
    "### 2. Libaries"
   ],
   "cell_type": "markdown",
   "metadata": {}
  },
  {
   "source": [
    "These are libraries we use to do this project:"
   ],
   "cell_type": "markdown",
   "metadata": {}
  },
  {
   "source": [
    "Pandas: For creating and manipulating dataframes.\n",
    "\n",
    "Folium: Python visualization library would be used to visualize the neighborhoods cluster distribution of using interactive leaflet map.\n",
    "\n",
    "Scikit Learn: For importing k-means clustering.\n",
    "\n",
    "JSON: Library to handle JSON files.\n",
    "\n",
    "XML: To separate data from presentation and XML stores data in plain text format.\n",
    "\n",
    "Geocoder: To retrieve Location Data."
   ],
   "cell_type": "markdown",
   "metadata": {}
  },
  {
   "cell_type": "code",
   "execution_count": null,
   "metadata": {},
   "outputs": [],
   "source": []
  }
 ]
}